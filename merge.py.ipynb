{
 "cells": [
  {
   "cell_type": "code",
   "execution_count": 10,
   "id": "d0f3690f",
   "metadata": {},
   "outputs": [
    {
     "name": "stdout",
     "output_type": "stream",
     "text": [
      "0 1 2 3 4 5 6 7 8 9 \n",
      "Sorted array is: \n"
     ]
    }
   ],
   "source": [
    "def mergeSort(arr):\n",
    "    if len(arr) > 1:\n",
    "        a = len(arr)//2\n",
    "        l = arr[:a]\n",
    "        r = arr[a:] \n",
    "        mergeSort(l)\n",
    "        mergeSort(r) \n",
    "        b = c = d = 0\n",
    "        while b < len(l) and c < len(r):\n",
    "            if l[b] < r[c]:\n",
    "                arr[d] = l[b]\n",
    "                b += 1\n",
    "            else:\n",
    "                arr[d] = r[c]\n",
    "                c += 1\n",
    "            d += 1\n",
    "        \n",
    "def printList(arr):\n",
    "    for i in range(len(arr)):\n",
    "        print(arr[i], end=\" \")\n",
    "    print()\n",
    "    arr = [0,1,3,5,7,9,2,4,6,8] \n",
    "    mergeSort(arr) \n",
    "    print(\"Sorted array is: \")\n",
    "printList(arr)"
   ]
  },
  {
   "cell_type": "code",
   "execution_count": null,
   "id": "495a83fb",
   "metadata": {},
   "outputs": [],
   "source": []
  },
  {
   "cell_type": "code",
   "execution_count": null,
   "id": "e3168895",
   "metadata": {},
   "outputs": [],
   "source": []
  }
 ],
 "metadata": {
  "kernelspec": {
   "display_name": "Python 3 (ipykernel)",
   "language": "python",
   "name": "python3"
  },
  "language_info": {
   "codemirror_mode": {
    "name": "ipython",
    "version": 3
   },
   "file_extension": ".py",
   "mimetype": "text/x-python",
   "name": "python",
   "nbconvert_exporter": "python",
   "pygments_lexer": "ipython3",
   "version": "3.9.12"
  }
 },
 "nbformat": 4,
 "nbformat_minor": 5
}
